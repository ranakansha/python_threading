{
  "nbformat": 4,
  "nbformat_minor": 0,
  "metadata": {
    "colab": {
      "name": "python threading.ipynb",
      "provenance": [],
      "collapsed_sections": []
    },
    "kernelspec": {
      "name": "python3",
      "display_name": "Python 3"
    }
  },
  "cells": [
    {
      "cell_type": "markdown",
      "metadata": {
        "id": "x0bhg2QLI6lz",
        "colab_type": "text"
      },
      "source": [
        "**Threading in Python**\n",
        "\n",
        "> In this session i will write the logic for  threading and multithreading in python.\n",
        "\n",
        "1.What is Threading?\n",
        "\n",
        "Threading is aa light weight sub process.ex: two tab opening at same time in browser.\n",
        "\n",
        "2.Type of thread?\n",
        "\n",
        "\n",
        "ans: Master Thread and multiple sub thread.\n",
        "\n",
        "\n",
        "\n"
      ]
    },
    {
      "cell_type": "markdown",
      "metadata": {
        "id": "s9MDgeCgKRSH",
        "colab_type": "text"
      },
      "source": [
        "**Step for creating thread in python**\n",
        "\n",
        "---\n",
        "1.Import the thrading module and sleep module from python library.\n",
        "\n"
      ]
    },
    {
      "cell_type": "code",
      "metadata": {
        "id": "izCAS5jLKOJV",
        "colab_type": "code",
        "colab": {}
      },
      "source": [
        "from threading import Thread\n",
        "from time import sleep"
      ],
      "execution_count": 1,
      "outputs": []
    },
    {
      "cell_type": "markdown",
      "metadata": {
        "id": "AGTQZdSnKtRs",
        "colab_type": "text"
      },
      "source": [
        "2.Create class and inside the class write function inside the class."
      ]
    },
    {
      "cell_type": "code",
      "metadata": {
        "id": "aJtf_F2KKqnP",
        "colab_type": "code",
        "colab": {
          "base_uri": "https://localhost:8080/",
          "height": 102
        },
        "outputId": "bdaa799c-047e-49f4-c910-38671fe4f510"
      },
      "source": [
        "class Main():\n",
        "  def run(self):\n",
        "    for i in range(5): # this function print hello 5 times\n",
        "      print(\"hello\")\n",
        "\n",
        "t1 = Main()\n",
        "\n",
        "t1.run()"
      ],
      "execution_count": 2,
      "outputs": [
        {
          "output_type": "stream",
          "text": [
            "hello\n",
            "hello\n",
            "hello\n",
            "hello\n",
            "hello\n"
          ],
          "name": "stdout"
        }
      ]
    },
    {
      "cell_type": "markdown",
      "metadata": {
        "id": "WVpzSM85LjZJ",
        "colab_type": "text"
      },
      "source": [
        "3. create second  class "
      ]
    },
    {
      "cell_type": "code",
      "metadata": {
        "id": "6v1ig_gXLG3e",
        "colab_type": "code",
        "colab": {
          "base_uri": "https://localhost:8080/",
          "height": 102
        },
        "outputId": "d96acd4b-f778-4a59-cca3-41f3fe1b3d09"
      },
      "source": [
        "class Mainfun():\n",
        "  def run(self):\n",
        "    for i in range(5):\n",
        "      print(\"hii\")\n",
        "\n",
        "t2=Mainfun()\n",
        "t2.run()"
      ],
      "execution_count": 6,
      "outputs": [
        {
          "output_type": "stream",
          "text": [
            "hii\n",
            "hii\n",
            "hii\n",
            "hii\n",
            "hii\n"
          ],
          "name": "stdout"
        }
      ]
    },
    {
      "cell_type": "markdown",
      "metadata": {
        "id": "p3IiLAHRL2Vb",
        "colab_type": "text"
      },
      "source": [
        "4.Inherit the multithread fromthe master thread that present in thread library."
      ]
    },
    {
      "cell_type": "code",
      "metadata": {
        "id": "5Im88dPVLhDi",
        "colab_type": "code",
        "colab": {
          "base_uri": "https://localhost:8080/",
          "height": 187
        },
        "outputId": "60d3690f-1a17-455e-9550-8909a2e85a9b"
      },
      "source": [
        "class Main(Thread):\n",
        "  def run(self):\n",
        "    for i in range(5):\n",
        "      print(\"hello\")\n",
        "      sleep(1)\n",
        "\n",
        "class Mainfun(Thread):\n",
        "  def run(self):\n",
        "    for i in range(5):\n",
        "      print(\"hii\")\n",
        "      sleep(1)\n",
        "\n",
        "t1 = Main()\n",
        "t2 = Mainfun()\n",
        "\n",
        "t1.start()\n",
        "sleep(0.2)\n",
        "t2.start()\n",
        "\n",
        "t1.join()\n",
        "t2.join()\n",
        "\n",
        "  \n"
      ],
      "execution_count": 7,
      "outputs": [
        {
          "output_type": "stream",
          "text": [
            "hello\n",
            "hii\n",
            "hello\n",
            "hii\n",
            "hello\n",
            "hii\n",
            "hello\n",
            "hii\n",
            "hello\n",
            "hii\n"
          ],
          "name": "stdout"
        }
      ]
    },
    {
      "cell_type": "markdown",
      "metadata": {
        "id": "j_mj22BBMTlY",
        "colab_type": "text"
      },
      "source": [
        "5.Lets print master thread"
      ]
    },
    {
      "cell_type": "code",
      "metadata": {
        "id": "1qymWVGVMQnG",
        "colab_type": "code",
        "colab": {
          "base_uri": "https://localhost:8080/",
          "height": 204
        },
        "outputId": "1c307058-7447-47de-8421-29fe052f4b2e"
      },
      "source": [
        "class Main(Thread):\n",
        "  def run(self):\n",
        "    for i in range(5):\n",
        "      print(\"hello\")\n",
        "      sleep(1)\n",
        "\n",
        "class Mainfun(Thread):\n",
        "  def run(self):\n",
        "    for i in range(5):\n",
        "      print(\"hii\")\n",
        "      sleep(1)\n",
        "\n",
        "t1 = Main()\n",
        "t2 = Mainfun()\n",
        "\n",
        "t1.start()\n",
        "sleep(0.2)\n",
        "t2.start()\n",
        "\n",
        "t1.join()\n",
        "t2.join()\n",
        "print(\"master thread\")"
      ],
      "execution_count": 8,
      "outputs": [
        {
          "output_type": "stream",
          "text": [
            "hello\n",
            "hii\n",
            "hello\n",
            "hii\n",
            "hello\n",
            "hii\n",
            "hello\n",
            "hii\n",
            "hello\n",
            "hii\n",
            "master thread\n"
          ],
          "name": "stdout"
        }
      ]
    },
    {
      "cell_type": "code",
      "metadata": {
        "id": "oM13bG38MfUp",
        "colab_type": "code",
        "colab": {}
      },
      "source": [
        ""
      ],
      "execution_count": null,
      "outputs": []
    }
  ]
}
